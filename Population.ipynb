{
 "cells": [
  {
   "cell_type": "code",
   "execution_count": 1,
   "metadata": {
    "scrolled": true
   },
   "outputs": [],
   "source": [
    "import numpy as np\n",
    "import pandas as pd\n",
    "import json\n",
    "from opfunu.cec.cec2013.unconstraint import Model\n",
    "from src.Mutator import Mutator\n",
    "from src.Generator import Generator"
   ]
  },
  {
   "cell_type": "code",
   "execution_count": 10,
   "metadata": {},
   "outputs": [],
   "source": [
    "class Population:\n",
    "    \n",
    "    def __init__(self, configFile):\n",
    "        config = {}\n",
    "        \n",
    "        with open(configFile) as configuration:\n",
    "            config = json.load(configuration)\n",
    "            \n",
    "        self.epochs = config['epochs']\n",
    "        self.function = config['fun_number']\n",
    "        self.mutator = Mutator(config['mutator'])\n",
    "        self.generator = Generator(config['generator'])\n",
    "        self.population = []\n",
    "        self.results = []\n",
    "      \n",
    "    \n",
    "    def initialize(self):\n",
    "        self.population = self.generator.generate_population()\n",
    "        \n",
    "        \n",
    "    def evaluate(self,x):\n",
    "        return 1\n",
    "    \n",
    "    \n",
    "    def observeEpoch(self):\n",
    "        epoch_results = []\n",
    "        individual_results = []\n",
    "        \n",
    "        for individual in self.population:\n",
    "            individual_results.append(self.evaluate(individual))\n",
    "            \n",
    "        df = np.array(individual_results)\n",
    "        \n",
    "        epoch_results.append(np.min(df))\n",
    "        epoch_results.append(np.max(df))\n",
    "        epoch_results.append(np.average(df))\n",
    "        \n",
    "        self.results.append(np.array(epoch_results))\n",
    "        "
   ]
  },
  {
   "cell_type": "code",
   "execution_count": 16,
   "metadata": {},
   "outputs": [],
   "source": [
    "pop = Population('config.json')\n",
    "pop.initialize()\n",
    "pop.observeEpoch()"
   ]
  },
  {
   "cell_type": "code",
   "execution_count": 18,
   "metadata": {},
   "outputs": [
    {
     "name": "stdout",
     "output_type": "stream",
     "text": [
      "[array([1., 1., 1.])]\n"
     ]
    }
   ],
   "source": [
    "print(pop.results)"
   ]
  },
  {
   "cell_type": "code",
   "execution_count": null,
   "metadata": {},
   "outputs": [],
   "source": []
  }
 ],
 "metadata": {
  "kernelspec": {
   "display_name": "Python 3",
   "language": "python",
   "name": "python3"
  },
  "language_info": {
   "codemirror_mode": {
    "name": "ipython",
    "version": 3
   },
   "file_extension": ".py",
   "mimetype": "text/x-python",
   "name": "python",
   "nbconvert_exporter": "python",
   "pygments_lexer": "ipython3",
   "version": "3.7.3"
  }
 },
 "nbformat": 4,
 "nbformat_minor": 2
}
